{
  "cells": [
    {
      "cell_type": "code",
      "execution_count": null,
      "metadata": {
        "id": "SA4oSKblcvbh"
      },
      "outputs": [],
      "source": [
        "import numpy as np\n",
        "import pandas as pd\n",
        "from sklearn.model_selection import train_test_split\n",
        "from sklearn.preprocessing import StandardScaler\n",
        "from tensorflow.keras.models import Sequential\n",
        "from tensorflow.keras.layers import Dense"
      ]
    },
    {
      "cell_type": "code",
      "execution_count": null,
      "metadata": {
        "id": "oxeYX2HwcEcd"
      },
      "outputs": [],
      "source": [
        "dataset_path = 'city_hour.csv'\n",
        "df = pd.read_csv(dataset_path)\n"
      ]
    },
    {
      "cell_type": "code",
      "execution_count": null,
      "metadata": {
        "id": "pmHpBuhRcPKX"
      },
      "outputs": [],
      "source": [
        "df.drop(['City', 'Datetime', 'AQI_Bucket', 'NOx', 'Benzene', 'Toluene', 'Xylene'], axis=1, inplace=True)\n",
        "\n",
        "# Split the dataset into features (X) and target (y)\n",
        "X = df.drop('AQI', axis=1)\n",
        "y = df['AQI']\n"
      ]
    },
    {
      "cell_type": "code",
      "execution_count": null,
      "metadata": {
        "id": "jHbpilY6clsW"
      },
      "outputs": [],
      "source": [
        "df.head()"
      ]
    },
    {
      "cell_type": "code",
      "execution_count": null,
      "metadata": {
        "id": "_XMSkmFdcp9H"
      },
      "outputs": [],
      "source": [
        "df.tail()"
      ]
    },
    {
      "cell_type": "code",
      "execution_count": null,
      "metadata": {
        "id": "DjBHUST3lP4q"
      },
      "outputs": [],
      "source": [
        "len(df)"
      ]
    },
    {
      "cell_type": "code",
      "execution_count": null,
      "metadata": {
        "id": "TquFNAl22FfO"
      },
      "outputs": [],
      "source": [
        "df.dropna(subset=['AQI'], inplace=True)\n"
      ]
    },
    {
      "cell_type": "code",
      "execution_count": null,
      "metadata": {
        "id": "5snQuYHUlVwi"
      },
      "outputs": [],
      "source": [
        "# df.fillna(df.mean(), inplace=True)\n",
        "df.dropna(how='any', inplace=True)"
      ]
    },
    {
      "cell_type": "code",
      "execution_count": null,
      "metadata": {
        "id": "NOjn573ftTEP"
      },
      "outputs": [],
      "source": [
        "len(df)"
      ]
    },
    {
      "cell_type": "code",
      "execution_count": null,
      "metadata": {
        "id": "oK4HbWSSSy6w"
      },
      "outputs": [],
      "source": [
        "df.isnull().sum()"
      ]
    },
    {
      "cell_type": "code",
      "execution_count": null,
      "metadata": {
        "id": "NftRQgyudgkL"
      },
      "outputs": [],
      "source": [
        "df.head()"
      ]
    },
    {
      "cell_type": "code",
      "execution_count": null,
      "metadata": {
        "id": "qUtQtEnwdjyw"
      },
      "outputs": [],
      "source": [
        "df.tail()"
      ]
    },
    {
      "cell_type": "code",
      "execution_count": null,
      "metadata": {
        "id": "E7T9p1DAcsyU"
      },
      "outputs": [],
      "source": [
        "X_train, X_test, y_train, y_test = train_test_split(X, y, test_size=0.2, random_state=42)\n",
        "# X_train.fillna(X_train.mean(), inplace=True)\n",
        "# y_train.fillna(y_train.mean(), inplace=True)\n",
        "# X_test.fillna(X_test.mean(), inplace=True)\n",
        "# y_test.fillna(y_test.mean(), inplace=True)\n",
        "X_train.dropna(inplace=True)\n",
        "y_train.dropna(inplace=True)\n",
        "X_test.dropna(inplace=True)\n",
        "y_test.dropna(inplace=True)"
      ]
    },
    {
      "cell_type": "code",
      "execution_count": null,
      "metadata": {
        "id": "PK0JBLsPW7Pe"
      },
      "outputs": [],
      "source": [
        "# X_train.isnull().sum()\n",
        "# y_train.isnull().sum()\n",
        "# X_test.isnull().sum()\n",
        "# y_test.isnull().sum()"
      ]
    },
    {
      "cell_type": "markdown",
      "metadata": {
        "id": "1-XnZc1dWSJY"
      },
      "source": []
    },
    {
      "cell_type": "code",
      "execution_count": null,
      "metadata": {
        "id": "ZmInH4wVT4zb"
      },
      "outputs": [],
      "source": [
        "X_train.isnull().sum()"
      ]
    },
    {
      "cell_type": "code",
      "execution_count": null,
      "metadata": {
        "id": "PvJH20nhTOcV"
      },
      "outputs": [],
      "source": [
        "\n",
        "\n",
        "# Perform feature scaling\n",
        "scaler = StandardScaler()\n",
        "X_train_scaled = scaler.fit_transform(X_train)\n",
        "X_test_scaled = scaler.transform(X_test)"
      ]
    },
    {
      "cell_type": "code",
      "execution_count": null,
      "metadata": {
        "id": "SMmAkXDJTs0Y"
      },
      "outputs": [],
      "source": [
        "np.isnan(X_train_scaled).sum()"
      ]
    },
    {
      "cell_type": "code",
      "execution_count": null,
      "metadata": {
        "id": "v2fGSWgxihFG"
      },
      "outputs": [],
      "source": [
        "# Build the MLP model\n",
        "model = Sequential()\n",
        "model.add(Dense(64, activation='relu', input_shape=(X_train_scaled.shape[1],)))\n",
        "model.add(Dense(64, activation='relu'))\n",
        "model.add(Dense(1))  # Output layer for regression"
      ]
    },
    {
      "cell_type": "code",
      "execution_count": null,
      "metadata": {
        "id": "DeeG5lhW61UJ"
      },
      "outputs": [],
      "source": [
        "#compile the model\n",
        "model.compile(optimizer='adam', loss='msle')\n",
        "\n",
        "# Train the model\n",
        "model.fit(X_train_scaled, y_train, epochs=100, batch_size=128, verbose=1)\n",
        "\n",
        "# Evaluate the model on the testing set\n",
        "loss = model.evaluate(X_test_scaled, y_test, verbose=0)\n",
        "print('Test loss:', loss)"
      ]
    },
    {
      "cell_type": "code",
      "execution_count": null,
      "metadata": {
        "id": "wcNcWp8FD6dT"
      },
      "outputs": [],
      "source": [
        "# Evaluate the model on the testing set\n",
        "loss = model.evaluate(X_test_scaled, y_test, verbose=0)\n",
        "\n",
        "# Calculate the accuracy as a percentage\n",
        "accuracy = (1 - loss) * 100\n",
        "\n",
        "print('Accuracy:', accuracy)\n"
      ]
    },
    {
      "cell_type": "code",
      "execution_count": null,
      "metadata": {
        "id": "s86t4Z11q_DV"
      },
      "outputs": [],
      "source": [
        "model.save('model.h5')\n"
      ]
    },
    {
      "cell_type": "code",
      "source": [],
      "metadata": {
        "id": "rmQQvbYXorG3"
      },
      "execution_count": null,
      "outputs": []
    }
  ],
  "metadata": {
    "colab": {
      "provenance": []
    },
    "kernelspec": {
      "display_name": "Python 3",
      "name": "python3"
    },
    "language_info": {
      "name": "python"
    }
  },
  "nbformat": 4,
  "nbformat_minor": 0
}