{
 "cells": [
  {
   "cell_type": "markdown",
   "id": "funny-volume",
   "metadata": {
    "papermill": {
     "duration": 0.023406,
     "end_time": "2023-07-04T04:34:21.340988",
     "exception": false,
     "start_time": "2023-07-04T04:34:21.317582",
     "status": "completed"
    },
    "tags": []
   },
   "source": []
  },
  {
   "cell_type": "code",
   "execution_count": null,
   "id": "worth-broadcast",
   "metadata": {
    "_cell_guid": "b1076dfc-b9ad-4769-8c92-a6c4dae69d19",
    "_uuid": "8f2839f25d086af736a60e9eeb907d3b93b6e0e5",
    "execution": {
     "iopub.execute_input": "2023-07-02T18:21:21.332306Z",
     "iopub.status.busy": "2023-07-02T18:21:21.331967Z",
     "iopub.status.idle": "2023-07-02T18:22:06.067295Z",
     "shell.execute_reply": "2023-07-02T18:22:06.066383Z",
     "shell.execute_reply.started": "2023-07-02T18:21:21.332229Z"
    },
    "papermill": {
     "duration": null,
     "end_time": null,
     "exception": false,
     "start_time": "2023-07-04T04:34:21.362177",
     "status": "running"
    },
    "tags": []
   },
   "outputs": [],
   "source": [
    "import numpy as np\n",
    "import pandas as pd \n",
    "import matplotlib.pyplot as plt\n",
    "from tqdm import tqdm\n",
    "import cv2\n",
    "\n",
    "import warnings\n",
    "warnings.filterwarnings('ignore')\n",
    "import os\n",
    "for dirname, _, _ in os.walk('/kaggle/input'):\n",
    "        print(dirname)"
   ]
  },
  {
   "cell_type": "code",
   "execution_count": null,
   "id": "deluxe-sustainability",
   "metadata": {
    "execution": {
     "iopub.execute_input": "2023-07-02T18:22:06.069275Z",
     "iopub.status.busy": "2023-07-02T18:22:06.068921Z",
     "iopub.status.idle": "2023-07-02T18:22:06.073553Z",
     "shell.execute_reply": "2023-07-02T18:22:06.072563Z",
     "shell.execute_reply.started": "2023-07-02T18:22:06.069238Z"
    },
    "papermill": {
     "duration": null,
     "end_time": null,
     "exception": null,
     "start_time": null,
     "status": "pending"
    },
    "tags": []
   },
   "outputs": [],
   "source": [
    "train_path = \"/kaggle/input/waste-classification-data/DATASET/TRAIN/\"\n",
    "test_path = \"/kaggle/input/waste-classification-data/DATASET/TEST/\""
   ]
  },
  {
   "cell_type": "markdown",
   "id": "angry-insight",
   "metadata": {
    "papermill": {
     "duration": null,
     "end_time": null,
     "exception": null,
     "start_time": null,
     "status": "pending"
    },
    "tags": []
   },
   "source": [
    "## Import Libraries"
   ]
  },
  {
   "cell_type": "code",
   "execution_count": null,
   "id": "particular-ancient",
   "metadata": {
    "execution": {
     "iopub.execute_input": "2023-07-02T18:22:06.076539Z",
     "iopub.status.busy": "2023-07-02T18:22:06.07595Z",
     "iopub.status.idle": "2023-07-02T18:22:11.183047Z",
     "shell.execute_reply": "2023-07-02T18:22:11.182118Z",
     "shell.execute_reply.started": "2023-07-02T18:22:06.076502Z"
    },
    "papermill": {
     "duration": null,
     "end_time": null,
     "exception": null,
     "start_time": null,
     "status": "pending"
    },
    "tags": []
   },
   "outputs": [],
   "source": [
    "from keras.models import Sequential \n",
    "from keras.layers import Conv2D, MaxPooling2D, Activation, Dropout, Flatten, Dense, BatchNormalization\n",
    "from keras.preprocessing.image import ImageDataGenerator, img_to_array, load_img\n",
    "from keras.utils.vis_utils import plot_model\n",
    "from glob import glob"
   ]
  },
  {
   "cell_type": "markdown",
   "id": "applied-beginning",
   "metadata": {
    "papermill": {
     "duration": null,
     "end_time": null,
     "exception": null,
     "start_time": null,
     "status": "pending"
    },
    "tags": []
   },
   "source": [
    "## Visualization"
   ]
  },
  {
   "cell_type": "code",
   "execution_count": null,
   "id": "included-removal",
   "metadata": {
    "execution": {
     "iopub.execute_input": "2023-07-02T18:22:11.185182Z",
     "iopub.status.busy": "2023-07-02T18:22:11.184827Z",
     "iopub.status.idle": "2023-07-02T18:24:35.326893Z",
     "shell.execute_reply": "2023-07-02T18:24:35.325838Z",
     "shell.execute_reply.started": "2023-07-02T18:22:11.185144Z"
    },
    "papermill": {
     "duration": null,
     "end_time": null,
     "exception": null,
     "start_time": null,
     "status": "pending"
    },
    "tags": []
   },
   "outputs": [],
   "source": [
    "x_data = [] \n",
    "y_data = [] \n",
    "\n",
    "for category in glob(train_path+'/*'):\n",
    "    for file in tqdm(glob(category+'/*')):\n",
    "        img_array=cv2.imread(file)\n",
    "        img_array = cv2.cvtColor(img_array, cv2.COLOR_BGR2RGB)\n",
    "        x_data.append(img_array) \n",
    "        y_data.append(category.split(\"/\")[-1])\n",
    "        \n",
    "data=pd.DataFrame({'image': x_data,'label': y_data})"
   ]
  },
  {
   "cell_type": "code",
   "execution_count": null,
   "id": "whole-developer",
   "metadata": {
    "execution": {
     "iopub.execute_input": "2023-07-02T18:24:35.328844Z",
     "iopub.status.busy": "2023-07-02T18:24:35.328456Z",
     "iopub.status.idle": "2023-07-02T18:24:35.338777Z",
     "shell.execute_reply": "2023-07-02T18:24:35.337765Z",
     "shell.execute_reply.started": "2023-07-02T18:24:35.328803Z"
    },
    "papermill": {
     "duration": null,
     "end_time": null,
     "exception": null,
     "start_time": null,
     "status": "pending"
    },
    "tags": []
   },
   "outputs": [],
   "source": [
    "data.shape"
   ]
  },
  {
   "cell_type": "code",
   "execution_count": null,
   "id": "proved-sweet",
   "metadata": {
    "execution": {
     "iopub.execute_input": "2023-07-02T18:24:35.340789Z",
     "iopub.status.busy": "2023-07-02T18:24:35.340312Z",
     "iopub.status.idle": "2023-07-02T18:24:35.354391Z",
     "shell.execute_reply": "2023-07-02T18:24:35.353282Z",
     "shell.execute_reply.started": "2023-07-02T18:24:35.340746Z"
    },
    "papermill": {
     "duration": null,
     "end_time": null,
     "exception": null,
     "start_time": null,
     "status": "pending"
    },
    "tags": []
   },
   "outputs": [],
   "source": [
    "from collections import Counter\n",
    "Counter(y_data)"
   ]
  },
  {
   "cell_type": "code",
   "execution_count": null,
   "id": "transsexual-prescription",
   "metadata": {
    "execution": {
     "iopub.execute_input": "2023-07-02T18:24:35.356228Z",
     "iopub.status.busy": "2023-07-02T18:24:35.355829Z",
     "iopub.status.idle": "2023-07-02T18:24:35.493689Z",
     "shell.execute_reply": "2023-07-02T18:24:35.492824Z",
     "shell.execute_reply.started": "2023-07-02T18:24:35.356192Z"
    },
    "papermill": {
     "duration": null,
     "end_time": null,
     "exception": null,
     "start_time": null,
     "status": "pending"
    },
    "tags": []
   },
   "outputs": [],
   "source": [
    "colors = ['#a0d157','#c48bb8']\n",
    "plt.pie(data.label.value_counts(),startangle=90,explode=[0.05,0.05],autopct='%0.2f%%',\n",
    "        labels=['Organic', 'Recyclable'], colors= colors,radius=2)\n",
    "plt.show()"
   ]
  },
  {
   "cell_type": "code",
   "execution_count": null,
   "id": "center-subscription",
   "metadata": {
    "execution": {
     "iopub.execute_input": "2023-07-02T18:24:35.496973Z",
     "iopub.status.busy": "2023-07-02T18:24:35.496416Z",
     "iopub.status.idle": "2023-07-02T18:24:37.576253Z",
     "shell.execute_reply": "2023-07-02T18:24:37.575436Z",
     "shell.execute_reply.started": "2023-07-02T18:24:35.496931Z"
    },
    "papermill": {
     "duration": null,
     "end_time": null,
     "exception": null,
     "start_time": null,
     "status": "pending"
    },
    "tags": []
   },
   "outputs": [],
   "source": [
    "plt.figure(figsize=(20,15))\n",
    "for i in range(9):\n",
    "    plt.subplot(4,3,(i%12)+1)\n",
    "    index=np.random.randint(15000)\n",
    "    plt.title('This image is of {0}'.format(data.label[index]),fontdict={'size':20,'weight':'bold'})\n",
    "    plt.imshow(data.image[index])\n",
    "    plt.tight_layout()"
   ]
  },
  {
   "cell_type": "markdown",
   "id": "addressed-rebecca",
   "metadata": {
    "papermill": {
     "duration": null,
     "end_time": null,
     "exception": null,
     "start_time": null,
     "status": "pending"
    },
    "tags": []
   },
   "source": [
    "* O -> Organic\n",
    "* R -> Recyclable"
   ]
  },
  {
   "cell_type": "code",
   "execution_count": null,
   "id": "modified-french",
   "metadata": {
    "execution": {
     "iopub.execute_input": "2023-07-02T18:24:37.578076Z",
     "iopub.status.busy": "2023-07-02T18:24:37.577764Z",
     "iopub.status.idle": "2023-07-02T18:24:37.585177Z",
     "shell.execute_reply": "2023-07-02T18:24:37.583905Z",
     "shell.execute_reply.started": "2023-07-02T18:24:37.578044Z"
    },
    "papermill": {
     "duration": null,
     "end_time": null,
     "exception": null,
     "start_time": null,
     "status": "pending"
    },
    "tags": []
   },
   "outputs": [],
   "source": [
    "className = glob(train_path + '/*' )\n",
    "numberOfClass = len(className)\n",
    "print(\"Number Of Class: \",numberOfClass)"
   ]
  },
  {
   "cell_type": "markdown",
   "id": "approved-heaven",
   "metadata": {
    "papermill": {
     "duration": null,
     "end_time": null,
     "exception": null,
     "start_time": null,
     "status": "pending"
    },
    "tags": []
   },
   "source": [
    "# Convolutional Neural Network - CNN"
   ]
  },
  {
   "cell_type": "code",
   "execution_count": null,
   "id": "considered-wisdom",
   "metadata": {
    "execution": {
     "iopub.execute_input": "2023-07-02T18:24:37.587321Z",
     "iopub.status.busy": "2023-07-02T18:24:37.586998Z",
     "iopub.status.idle": "2023-07-02T18:24:39.993356Z",
     "shell.execute_reply": "2023-07-02T18:24:39.992443Z",
     "shell.execute_reply.started": "2023-07-02T18:24:37.587289Z"
    },
    "papermill": {
     "duration": null,
     "end_time": null,
     "exception": null,
     "start_time": null,
     "status": "pending"
    },
    "tags": []
   },
   "outputs": [],
   "source": [
    "model = Sequential()\n",
    "model.add(Conv2D(32,(3,3),input_shape = (224,224,3)))\n",
    "model.add(Activation(\"relu\"))\n",
    "model.add(MaxPooling2D())\n",
    "\n",
    "model.add(Conv2D(64,(3,3)))  \n",
    "model.add(Activation(\"relu\"))\n",
    "model.add(MaxPooling2D())\n",
    "\n",
    "model.add(Conv2D(128,(3,3)))\n",
    "model.add(Activation(\"relu\"))\n",
    "model.add(MaxPooling2D())\n",
    "\n",
    "model.add(Flatten())\n",
    "model.add(Dense(256))\n",
    "model.add(Activation(\"relu\"))\n",
    "model.add(Dropout(0.5))\n",
    "model.add(Dense(64))\n",
    "model.add(Activation(\"relu\"))\n",
    "model.add(Dropout(0.5))\n",
    "model.add(Dense(numberOfClass)) # output\n",
    "model.add(Activation(\"sigmoid\"))\n",
    "\n",
    "model.compile(loss = \"binary_crossentropy\",\n",
    "              optimizer = \"adam\",\n",
    "              metrics = [\"accuracy\"])\n",
    "\n",
    "batch_size = 256"
   ]
  },
  {
   "cell_type": "code",
   "execution_count": null,
   "id": "confident-haiti",
   "metadata": {
    "execution": {
     "iopub.execute_input": "2023-07-02T18:24:39.995445Z",
     "iopub.status.busy": "2023-07-02T18:24:39.994874Z",
     "iopub.status.idle": "2023-07-02T18:24:40.667805Z",
     "shell.execute_reply": "2023-07-02T18:24:40.666779Z",
     "shell.execute_reply.started": "2023-07-02T18:24:39.995402Z"
    },
    "papermill": {
     "duration": null,
     "end_time": null,
     "exception": null,
     "start_time": null,
     "status": "pending"
    },
    "tags": []
   },
   "outputs": [],
   "source": [
    "plot_model(model)"
   ]
  },
  {
   "cell_type": "code",
   "execution_count": null,
   "id": "meaning-combat",
   "metadata": {
    "execution": {
     "iopub.execute_input": "2023-07-02T18:24:40.671649Z",
     "iopub.status.busy": "2023-07-02T18:24:40.67131Z",
     "iopub.status.idle": "2023-07-02T18:24:40.678791Z",
     "shell.execute_reply": "2023-07-02T18:24:40.677835Z",
     "shell.execute_reply.started": "2023-07-02T18:24:40.671614Z"
    },
    "papermill": {
     "duration": null,
     "end_time": null,
     "exception": null,
     "start_time": null,
     "status": "pending"
    },
    "tags": []
   },
   "outputs": [],
   "source": [
    "train_datagen = ImageDataGenerator(rescale= 1./255)"
   ]
  },
  {
   "cell_type": "code",
   "execution_count": null,
   "id": "august-yemen",
   "metadata": {
    "execution": {
     "iopub.execute_input": "2023-07-02T18:24:40.680726Z",
     "iopub.status.busy": "2023-07-02T18:24:40.68031Z",
     "iopub.status.idle": "2023-07-02T18:24:40.688553Z",
     "shell.execute_reply": "2023-07-02T18:24:40.687592Z",
     "shell.execute_reply.started": "2023-07-02T18:24:40.680687Z"
    },
    "papermill": {
     "duration": null,
     "end_time": null,
     "exception": null,
     "start_time": null,
     "status": "pending"
    },
    "tags": []
   },
   "outputs": [],
   "source": [
    "test_datagen = ImageDataGenerator(rescale= 1./255)"
   ]
  },
  {
   "cell_type": "code",
   "execution_count": null,
   "id": "hispanic-edmonton",
   "metadata": {
    "execution": {
     "iopub.execute_input": "2023-07-02T18:24:40.690375Z",
     "iopub.status.busy": "2023-07-02T18:24:40.69Z",
     "iopub.status.idle": "2023-07-02T18:24:45.797652Z",
     "shell.execute_reply": "2023-07-02T18:24:45.796628Z",
     "shell.execute_reply.started": "2023-07-02T18:24:40.690338Z"
    },
    "papermill": {
     "duration": null,
     "end_time": null,
     "exception": null,
     "start_time": null,
     "status": "pending"
    },
    "tags": []
   },
   "outputs": [],
   "source": [
    "train_generator = train_datagen.flow_from_directory(\n",
    "        train_path, \n",
    "        target_size= (224,224),\n",
    "        batch_size = batch_size,\n",
    "        color_mode= \"rgb\",\n",
    "        class_mode= \"categorical\")\n",
    "\n",
    "test_generator = test_datagen.flow_from_directory(\n",
    "        test_path, \n",
    "        target_size= (224,224),\n",
    "        batch_size = batch_size,\n",
    "        color_mode= \"rgb\",\n",
    "        class_mode= \"categorical\")"
   ]
  },
  {
   "cell_type": "code",
   "execution_count": null,
   "id": "common-rebate",
   "metadata": {
    "execution": {
     "iopub.execute_input": "2023-07-02T18:24:45.799684Z",
     "iopub.status.busy": "2023-07-02T18:24:45.799078Z",
     "iopub.status.idle": "2023-07-02T18:42:16.96552Z",
     "shell.execute_reply": "2023-07-02T18:42:16.964523Z",
     "shell.execute_reply.started": "2023-07-02T18:24:45.79964Z"
    },
    "papermill": {
     "duration": null,
     "end_time": null,
     "exception": null,
     "start_time": null,
     "status": "pending"
    },
    "tags": []
   },
   "outputs": [],
   "source": [
    "hist = model.fit_generator(\n",
    "        generator = train_generator,\n",
    "        epochs=10,\n",
    "        validation_data = test_generator)"
   ]
  },
  {
   "cell_type": "code",
   "execution_count": null,
   "id": "quantitative-trailer",
   "metadata": {
    "execution": {
     "iopub.execute_input": "2023-07-02T18:42:16.967827Z",
     "iopub.status.busy": "2023-07-02T18:42:16.967425Z",
     "iopub.status.idle": "2023-07-02T18:42:17.154887Z",
     "shell.execute_reply": "2023-07-02T18:42:17.153837Z",
     "shell.execute_reply.started": "2023-07-02T18:42:16.967785Z"
    },
    "papermill": {
     "duration": null,
     "end_time": null,
     "exception": null,
     "start_time": null,
     "status": "pending"
    },
    "tags": []
   },
   "outputs": [],
   "source": [
    "plt.figure(figsize=[10,6])\n",
    "plt.plot(hist.history[\"accuracy\"], label = \"Train acc\")\n",
    "plt.plot(hist.history[\"val_accuracy\"], label = \"Validation acc\")\n",
    "plt.legend()\n",
    "plt.show()"
   ]
  },
  {
   "cell_type": "code",
   "execution_count": null,
   "id": "stainless-reward",
   "metadata": {
    "execution": {
     "iopub.execute_input": "2023-07-02T18:42:17.15676Z",
     "iopub.status.busy": "2023-07-02T18:42:17.156367Z",
     "iopub.status.idle": "2023-07-02T18:42:17.330263Z",
     "shell.execute_reply": "2023-07-02T18:42:17.329237Z",
     "shell.execute_reply.started": "2023-07-02T18:42:17.156705Z"
    },
    "papermill": {
     "duration": null,
     "end_time": null,
     "exception": null,
     "start_time": null,
     "status": "pending"
    },
    "tags": []
   },
   "outputs": [],
   "source": [
    "plt.figure(figsize=(10,6))\n",
    "plt.plot(hist.history['loss'], label = \"Train loss\")\n",
    "plt.plot(hist.history['val_loss'], label = \"Validation loss\")\n",
    "plt.legend()\n",
    "plt.show()"
   ]
  },
  {
   "cell_type": "markdown",
   "id": "graphic-provision",
   "metadata": {
    "papermill": {
     "duration": null,
     "end_time": null,
     "exception": null,
     "start_time": null,
     "status": "pending"
    },
    "tags": []
   },
   "source": [
    "## Model Prediction"
   ]
  },
  {
   "cell_type": "code",
   "execution_count": null,
   "id": "adult-hungarian",
   "metadata": {
    "execution": {
     "iopub.execute_input": "2023-07-02T18:42:17.332089Z",
     "iopub.status.busy": "2023-07-02T18:42:17.331673Z",
     "iopub.status.idle": "2023-07-02T18:42:17.339627Z",
     "shell.execute_reply": "2023-07-02T18:42:17.33864Z",
     "shell.execute_reply.started": "2023-07-02T18:42:17.332049Z"
    },
    "papermill": {
     "duration": null,
     "end_time": null,
     "exception": null,
     "start_time": null,
     "status": "pending"
    },
    "tags": []
   },
   "outputs": [],
   "source": [
    "def predict_func(img): \n",
    "    plt.figure(figsize=(6,4))\n",
    "    plt.imshow(cv2.cvtColor(img, cv2.COLOR_BGR2RGB))\n",
    "    plt.tight_layout()\n",
    "    img = cv2.resize(img, (224, 224))\n",
    "    img = np.reshape(img, [-1, 224, 224,3])\n",
    "    result = np.argmax(model.predict(img))\n",
    "    if result == 0: print(\"\\033[94m\"+\"This image -> Recyclable\"+\"\\033[0m\")\n",
    "    elif result ==1: print(\"\\033[94m\"+\"This image -> Organic\"+\"\\033[0m\")"
   ]
  },
  {
   "cell_type": "code",
   "execution_count": null,
   "id": "aging-scenario",
   "metadata": {
    "execution": {
     "iopub.execute_input": "2023-07-02T18:42:17.341403Z",
     "iopub.status.busy": "2023-07-02T18:42:17.341036Z",
     "iopub.status.idle": "2023-07-02T18:42:17.819687Z",
     "shell.execute_reply": "2023-07-02T18:42:17.818818Z",
     "shell.execute_reply.started": "2023-07-02T18:42:17.341365Z"
    },
    "papermill": {
     "duration": null,
     "end_time": null,
     "exception": null,
     "start_time": null,
     "status": "pending"
    },
    "tags": []
   },
   "outputs": [],
   "source": [
    "test_img = cv2.imread(\"/kaggle/input/waste-classification-data/DATASET/TEST/O/O_12573.jpg\")\n",
    "predict_func(test_img)"
   ]
  },
  {
   "cell_type": "code",
   "execution_count": null,
   "id": "incoming-tampa",
   "metadata": {
    "execution": {
     "iopub.execute_input": "2023-07-02T18:42:17.821659Z",
     "iopub.status.busy": "2023-07-02T18:42:17.821118Z",
     "iopub.status.idle": "2023-07-02T18:42:18.151054Z",
     "shell.execute_reply": "2023-07-02T18:42:18.15005Z",
     "shell.execute_reply.started": "2023-07-02T18:42:17.821613Z"
    },
    "papermill": {
     "duration": null,
     "end_time": null,
     "exception": null,
     "start_time": null,
     "status": "pending"
    },
    "tags": []
   },
   "outputs": [],
   "source": [
    "test_img = cv2.imread(\"/kaggle/input/waste-classification-data/DATASET/TEST/R/R_10753.jpg\")\n",
    "predict_func(test_img)"
   ]
  },
  {
   "cell_type": "code",
   "execution_count": null,
   "id": "regulation-hygiene",
   "metadata": {
    "execution": {
     "iopub.execute_input": "2023-07-02T18:47:38.364334Z",
     "iopub.status.busy": "2023-07-02T18:47:38.363934Z",
     "iopub.status.idle": "2023-07-02T18:47:38.947223Z",
     "shell.execute_reply": "2023-07-02T18:47:38.946274Z",
     "shell.execute_reply.started": "2023-07-02T18:47:38.3643Z"
    },
    "papermill": {
     "duration": null,
     "end_time": null,
     "exception": null,
     "start_time": null,
     "status": "pending"
    },
    "tags": []
   },
   "outputs": [],
   "source": [
    "model.save('Waste_Classification_Model.h5')"
   ]
  }
 ],
 "metadata": {
  "kernelspec": {
   "display_name": "Python 3",
   "language": "python",
   "name": "python3"
  },
  "language_info": {
   "codemirror_mode": {
    "name": "ipython",
    "version": 3
   },
   "file_extension": ".py",
   "mimetype": "text/x-python",
   "name": "python",
   "nbconvert_exporter": "python",
   "pygments_lexer": "ipython3",
   "version": "3.6.4"
  },
  "papermill": {
   "default_parameters": {},
   "duration": null,
   "end_time": null,
   "environment_variables": {},
   "exception": null,
   "input_path": "__notebook__.ipynb",
   "output_path": "__notebook__.ipynb",
   "parameters": {},
   "start_time": "2023-07-04T04:34:14.016254",
   "version": "2.3.3"
  }
 },
 "nbformat": 4,
 "nbformat_minor": 5
}